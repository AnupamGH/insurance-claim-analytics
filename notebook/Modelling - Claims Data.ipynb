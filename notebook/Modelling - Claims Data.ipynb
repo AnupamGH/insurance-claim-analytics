{
 "cells": [
  {
   "cell_type": "markdown",
   "metadata": {},
   "source": [
    "## Importing Data and Merging "
   ]
  },
  {
   "cell_type": "code",
   "execution_count": 1,
   "metadata": {},
   "outputs": [
    {
     "data": {
      "text/html": [
       "<div>\n",
       "<style scoped>\n",
       "    .dataframe tbody tr th:only-of-type {\n",
       "        vertical-align: middle;\n",
       "    }\n",
       "\n",
       "    .dataframe tbody tr th {\n",
       "        vertical-align: top;\n",
       "    }\n",
       "\n",
       "    .dataframe thead th {\n",
       "        text-align: right;\n",
       "    }\n",
       "</style>\n",
       "<table border=\"1\" class=\"dataframe\">\n",
       "  <thead>\n",
       "    <tr style=\"text-align: right;\">\n",
       "      <th></th>\n",
       "      <th>claim_id</th>\n",
       "      <th>customer_id</th>\n",
       "      <th>incident_cause</th>\n",
       "      <th>claim_date</th>\n",
       "      <th>claim_area</th>\n",
       "      <th>police_report</th>\n",
       "      <th>claim_type</th>\n",
       "      <th>claim_amount</th>\n",
       "      <th>total_policy_claims</th>\n",
       "      <th>fraudulent</th>\n",
       "      <th>CUST_ID</th>\n",
       "      <th>gender</th>\n",
       "      <th>DateOfBirth</th>\n",
       "      <th>State</th>\n",
       "      <th>Contact</th>\n",
       "      <th>Segment</th>\n",
       "      <th>fraudulent_flag</th>\n",
       "    </tr>\n",
       "  </thead>\n",
       "  <tbody>\n",
       "    <tr>\n",
       "      <th>0</th>\n",
       "      <td>88815908</td>\n",
       "      <td>48477164</td>\n",
       "      <td>Driver error</td>\n",
       "      <td>09-07-2017</td>\n",
       "      <td>Home</td>\n",
       "      <td>Unknown</td>\n",
       "      <td>Material and injury</td>\n",
       "      <td>$48150.5</td>\n",
       "      <td>4</td>\n",
       "      <td>Yes</td>\n",
       "      <td>48477164.0</td>\n",
       "      <td>Female</td>\n",
       "      <td>20-Oct-76</td>\n",
       "      <td>NV</td>\n",
       "      <td>572-493-8516</td>\n",
       "      <td>Silver</td>\n",
       "      <td>1.0</td>\n",
       "    </tr>\n",
       "    <tr>\n",
       "      <th>1</th>\n",
       "      <td>22032611</td>\n",
       "      <td>27598176</td>\n",
       "      <td>Driver error</td>\n",
       "      <td>01/13/2018</td>\n",
       "      <td>Auto</td>\n",
       "      <td>No</td>\n",
       "      <td>Material and injury</td>\n",
       "      <td>$48035.5</td>\n",
       "      <td>1</td>\n",
       "      <td>Yes</td>\n",
       "      <td>27598176.0</td>\n",
       "      <td>Female</td>\n",
       "      <td>29-Jan-65</td>\n",
       "      <td>TN</td>\n",
       "      <td>436-192-5639</td>\n",
       "      <td>Platinum</td>\n",
       "      <td>1.0</td>\n",
       "    </tr>\n",
       "    <tr>\n",
       "      <th>2</th>\n",
       "      <td>6429479</td>\n",
       "      <td>14501963</td>\n",
       "      <td>Driver error</td>\n",
       "      <td>10/24/2017</td>\n",
       "      <td>Auto</td>\n",
       "      <td>No</td>\n",
       "      <td>Material and injury</td>\n",
       "      <td>$47748</td>\n",
       "      <td>3</td>\n",
       "      <td>Yes</td>\n",
       "      <td>14501963.0</td>\n",
       "      <td>Male</td>\n",
       "      <td>24-Oct-80</td>\n",
       "      <td>NM</td>\n",
       "      <td>978-631-4759</td>\n",
       "      <td>Gold</td>\n",
       "      <td>1.0</td>\n",
       "    </tr>\n",
       "    <tr>\n",
       "      <th>3</th>\n",
       "      <td>18700750</td>\n",
       "      <td>86024944</td>\n",
       "      <td>Other driver error</td>\n",
       "      <td>07/15/2017</td>\n",
       "      <td>Auto</td>\n",
       "      <td>Unknown</td>\n",
       "      <td>Material and injury</td>\n",
       "      <td>$47679</td>\n",
       "      <td>2</td>\n",
       "      <td>Yes</td>\n",
       "      <td>86024944.0</td>\n",
       "      <td>Female</td>\n",
       "      <td>01-Aug-74</td>\n",
       "      <td>AZ</td>\n",
       "      <td>742-298-4693</td>\n",
       "      <td>Silver</td>\n",
       "      <td>1.0</td>\n",
       "    </tr>\n",
       "    <tr>\n",
       "      <th>4</th>\n",
       "      <td>32116508</td>\n",
       "      <td>65728108</td>\n",
       "      <td>Other causes</td>\n",
       "      <td>10-09-2018</td>\n",
       "      <td>Auto</td>\n",
       "      <td>Unknown</td>\n",
       "      <td>Material and injury</td>\n",
       "      <td>$47610</td>\n",
       "      <td>3</td>\n",
       "      <td>Yes</td>\n",
       "      <td>65728108.0</td>\n",
       "      <td>Male</td>\n",
       "      <td>22-Nov-84</td>\n",
       "      <td>SC</td>\n",
       "      <td>438-675-4587</td>\n",
       "      <td>Platinum</td>\n",
       "      <td>1.0</td>\n",
       "    </tr>\n",
       "  </tbody>\n",
       "</table>\n",
       "</div>"
      ],
      "text/plain": [
       "   claim_id  customer_id      incident_cause  claim_date claim_area  \\\n",
       "0  88815908     48477164        Driver error  09-07-2017       Home   \n",
       "1  22032611     27598176        Driver error  01/13/2018       Auto   \n",
       "2   6429479     14501963        Driver error  10/24/2017       Auto   \n",
       "3  18700750     86024944  Other driver error  07/15/2017       Auto   \n",
       "4  32116508     65728108        Other causes  10-09-2018       Auto   \n",
       "\n",
       "  police_report           claim_type claim_amount  total_policy_claims  \\\n",
       "0       Unknown  Material and injury     $48150.5                    4   \n",
       "1            No  Material and injury     $48035.5                    1   \n",
       "2            No  Material and injury       $47748                    3   \n",
       "3       Unknown  Material and injury       $47679                    2   \n",
       "4       Unknown  Material and injury       $47610                    3   \n",
       "\n",
       "  fraudulent     CUST_ID  gender DateOfBirth State       Contact   Segment  \\\n",
       "0        Yes  48477164.0  Female   20-Oct-76    NV  572-493-8516    Silver   \n",
       "1        Yes  27598176.0  Female   29-Jan-65    TN  436-192-5639  Platinum   \n",
       "2        Yes  14501963.0    Male   24-Oct-80    NM  978-631-4759      Gold   \n",
       "3        Yes  86024944.0  Female   01-Aug-74    AZ  742-298-4693    Silver   \n",
       "4        Yes  65728108.0    Male   22-Nov-84    SC  438-675-4587  Platinum   \n",
       "\n",
       "   fraudulent_flag  \n",
       "0              1.0  \n",
       "1              1.0  \n",
       "2              1.0  \n",
       "3              1.0  \n",
       "4              1.0  "
      ]
     },
     "execution_count": 1,
     "metadata": {},
     "output_type": "execute_result"
    }
   ],
   "source": [
    "import pandas as pd\n",
    "import numpy as np\n",
    "\n",
    "claims = pd.read_csv('claims.csv')\n",
    "cust_demographics = pd.read_csv('cust_demographics.csv')\n",
    "\n",
    "Claims_cust = pd.merge(claims,\n",
    "                 cust_demographics,left_on='customer_id',\n",
    "                 right_on='CUST_ID', how='left')\n",
    "\n",
    "\n",
    "Claims_cust.loc[Claims_cust.fraudulent == 'Yes', 'fraudulent_flag'] = 1 \n",
    "Claims_cust.loc[Claims_cust.fraudulent == 'No', 'fraudulent_flag'] = 0\n",
    "\n",
    "Claims_cust.head()"
   ]
  },
  {
   "cell_type": "markdown",
   "metadata": {},
   "source": [
    "## Data Exploration"
   ]
  },
  {
   "cell_type": "markdown",
   "metadata": {},
   "source": [
    "## 1. Calculating the proportion of fraudulent vs non fraudulent in the flag column"
   ]
  },
  {
   "cell_type": "code",
   "execution_count": 3,
   "metadata": {},
   "outputs": [
    {
     "data": {
      "image/png": "[encoded data removed]",
      "text/plain": [
       "<Figure size 432x288 with 1 Axes>"
      ]
     },
     "metadata": {
      "needs_background": "light"
     },
     "output_type": "display_data"
    },
    {
     "name": "stdout",
     "output_type": "stream",
     "text": [
      "Percentage of no fraud is 76.9090909090909\n",
      "Percentage of fraud 23.09090909090909\n"
     ]
    }
   ],
   "source": [
    "Claims_cust['fraudulent'].value_counts()\n",
    "\n",
    "import matplotlib.pyplot as plt\n",
    "%matplotlib inline \n",
    "import seaborn as sns\n",
    "\n",
    "sns.countplot(x='fraudulent',data=Claims_cust)\n",
    "plt.show()\n",
    "\n",
    "count_no_fraud = len(Claims_cust[Claims_cust['fraudulent']=='No'])\n",
    "count_fraud = len(Claims_cust[Claims_cust['fraudulent']=='Yes'])\n",
    "pct_of_no_fraud = count_no_fraud/(count_no_fraud+count_fraud)\n",
    "print(\"Percentage of no fraud is\", pct_of_no_fraud*100)\n",
    "pct_of_fraud = count_fraud/(count_no_fraud+count_fraud)\n",
    "print(\"Percentage of fraud\", pct_of_fraud*100)"
   ]
  },
  {
   "cell_type": "markdown",
   "metadata": {},
   "source": [
    "## 2. Trend of Incident Cause with Fraudulent - Does Incident Cause have an impact on Fraudulent behaviour?"
   ]
  },
  {
   "cell_type": "code",
   "execution_count": 4,
   "metadata": {},
   "outputs": [
    {
     "data": {
      "text/html": [
       "<div>\n",
       "<style scoped>\n",
       "    .dataframe tbody tr th:only-of-type {\n",
       "        vertical-align: middle;\n",
       "    }\n",
       "\n",
       "    .dataframe tbody tr th {\n",
       "        vertical-align: top;\n",
       "    }\n",
       "\n",
       "    .dataframe thead th {\n",
       "        text-align: right;\n",
       "    }\n",
       "</style>\n",
       "<table border=\"1\" class=\"dataframe\">\n",
       "  <thead>\n",
       "    <tr style=\"text-align: right;\">\n",
       "      <th></th>\n",
       "      <th>claim_cause_fraud</th>\n",
       "      <th>claim_cause_total</th>\n",
       "      <th>fraud_perc</th>\n",
       "    </tr>\n",
       "    <tr>\n",
       "      <th>incident_cause</th>\n",
       "      <th></th>\n",
       "      <th></th>\n",
       "      <th></th>\n",
       "    </tr>\n",
       "  </thead>\n",
       "  <tbody>\n",
       "    <tr>\n",
       "      <th>Crime</th>\n",
       "      <td>28</td>\n",
       "      <td>110</td>\n",
       "      <td>25.454545</td>\n",
       "    </tr>\n",
       "    <tr>\n",
       "      <th>Driver error</th>\n",
       "      <td>59</td>\n",
       "      <td>262</td>\n",
       "      <td>22.519084</td>\n",
       "    </tr>\n",
       "    <tr>\n",
       "      <th>Natural causes</th>\n",
       "      <td>40</td>\n",
       "      <td>189</td>\n",
       "      <td>21.164021</td>\n",
       "    </tr>\n",
       "    <tr>\n",
       "      <th>Other causes</th>\n",
       "      <td>71</td>\n",
       "      <td>290</td>\n",
       "      <td>24.482759</td>\n",
       "    </tr>\n",
       "    <tr>\n",
       "      <th>Other driver error</th>\n",
       "      <td>56</td>\n",
       "      <td>249</td>\n",
       "      <td>22.489960</td>\n",
       "    </tr>\n",
       "  </tbody>\n",
       "</table>\n",
       "</div>"
      ],
      "text/plain": [
       "                    claim_cause_fraud  claim_cause_total  fraud_perc\n",
       "incident_cause                                                      \n",
       "Crime                              28                110   25.454545\n",
       "Driver error                       59                262   22.519084\n",
       "Natural causes                     40                189   21.164021\n",
       "Other causes                       71                290   24.482759\n",
       "Other driver error                 56                249   22.489960"
      ]
     },
     "execution_count": 4,
     "metadata": {},
     "output_type": "execute_result"
    }
   ],
   "source": [
    "import matplotlib.pyplot as plt\n",
    "%matplotlib inline \n",
    "import seaborn as sns\n",
    "import pandas as pd\n",
    "\n",
    "claims_cust_yes = Claims_cust.loc[Claims_cust['fraudulent'] == 'Yes']\n",
    "claims_cust_yes.count()\n",
    "\n",
    "incident_cause_fraud = claims_cust_yes.groupby(['incident_cause'])['fraudulent'].agg('count')\n",
    "incident_cause_fraud\n",
    "\n",
    "incident_cause_fraud_2 = incident_cause_fraud.to_frame(name='claim_cause_fraud')\n",
    "incident_cause_fraud_2.head()\n",
    "\n",
    "Claims_incident_cause = Claims_cust.groupby(['incident_cause'])['fraudulent'].agg('count')\n",
    "Claims_incident_cause_2 = Claims_incident_cause.to_frame(name='claim_cause_total')\n",
    "Claims_incident_cause_2.head()\n",
    "\n",
    "\n",
    "Claims_cust_3 = pd.merge(incident_cause_fraud_2,\n",
    "                 Claims_incident_cause_2,on = 'incident_cause',\n",
    "                how='left')\n",
    "Claims_cust_3.head()\n",
    "\n",
    "Claims_cust_3['fraud_perc'] = (Claims_cust_3['claim_cause_fraud']/Claims_cust_3['claim_cause_total'])*100\n",
    "\n",
    "Claims_cust_3.head()\n",
    "\n",
    "#plt.savefig('edu_vs_pur_stack')"
   ]
  },
  {
   "cell_type": "markdown",
   "metadata": {},
   "source": [
    "## We observe that the fraud percentage is very similar across incident causes"
   ]
  },
  {
   "cell_type": "markdown",
   "metadata": {},
   "source": [
    "## 3. Trend of Claim Area with fraudulent - Does claim area have an impact on fraudulent? "
   ]
  },
  {
   "cell_type": "code",
   "execution_count": 5,
   "metadata": {},
   "outputs": [
    {
     "data": {
      "text/plain": [
       "Text(0, 0.5, 'Proportion of Frauds')"
      ]
     },
     "execution_count": 5,
     "metadata": {},
     "output_type": "execute_result"
    },
    {
     "data": {
      "image/png": "[encoded data removed]",
      "text/plain": [
       "<Figure size 432x288 with 1 Axes>"
      ]
     },
     "metadata": {
      "needs_background": "light"
     },
     "output_type": "display_data"
    }
   ],
   "source": [
    "import pandas as pd\n",
    "\n",
    "table=pd.crosstab(Claims_cust.claim_area,Claims_cust.fraudulent)\n",
    "table.div(table.sum(1).astype(float), axis=0).plot(kind='bar', stacked=True)\n",
    "plt.title('Stacked Bar Chart of Claim Area vs Fraudulent')\n",
    "plt.xlabel('Claim Area')\n",
    "plt.ylabel('Proportion of Frauds')\n",
    "#plt.savefig('edu_vs_pur_stack')\n"
   ]
  },
  {
   "cell_type": "markdown",
   "metadata": {},
   "source": [
    "## Very minimal difference between fraudulent of auto and home"
   ]
  },
  {
   "cell_type": "markdown",
   "metadata": {},
   "source": [
    "## 4. Trend of claim_type with fraudulent proportion"
   ]
  },
  {
   "cell_type": "code",
   "execution_count": 61,
   "metadata": {},
   "outputs": [
    {
     "data": {
      "text/plain": [
       "Text(0, 0.5, 'Proportion of Frauds')"
      ]
     },
     "execution_count": 61,
     "metadata": {},
     "output_type": "execute_result"
    },
    {
     "data": {
      "image/png": "[encoded data removed]",
      "text/plain": [
       "<Figure size 432x288 with 1 Axes>"
      ]
     },
     "metadata": {
      "needs_background": "light"
     },
     "output_type": "display_data"
    }
   ],
   "source": [
    "claim_type_fraud = claims_cust_yes.groupby(['claim_type'])['fraudulent'].agg('count')\n",
    "claim_type_fraud\n",
    "\n",
    "claim_type_fraud_2 = claim_type_fraud.to_frame(name='claim_type_fraud')\n",
    "#claim_type_fraud_2.head()\n",
    "\n",
    "Claims_type = Claims_cust.groupby(['claim_type'])['fraudulent'].agg('count')\n",
    "claim_type_type_2 = Claims_type.to_frame(name='claim_type_total')\n",
    "#claim_type_type_2.head()\n",
    "\n",
    "\n",
    "Claims_cust_2 = pd.merge(claim_type_fraud_2,\n",
    "                 claim_type_type_2,on = 'claim_type',\n",
    "                how='left')\n",
    "#Claims_cust.head()\n",
    "\n",
    "Claims_cust_2['fraud_perc'] = (Claims_cust_2['claim_type_fraud']/Claims_cust_2['claim_type_total'])*100\n",
    "\n",
    "#Claims_cust_2.head()\n",
    "\n",
    "table=pd.crosstab(Claims_cust.claim_type,Claims_cust.fraudulent)\n",
    "table.div(table.sum(1).astype(float), axis=0).plot(kind='bar', stacked=True)\n",
    "plt.title('Stacked Bar Chart of Claim type vs Fraudulent')\n",
    "plt.xlabel('Claim claim type')\n",
    "plt.ylabel('Proportion of Frauds')\n",
    "#plt.savefig('edu_vs_pur_stack')\n",
    "\n"
   ]
  },
  {
   "cell_type": "markdown",
   "metadata": {},
   "source": [
    "## Materials and Injury and Material Only types tend to have higher fraud percentage as compared to Injury only"
   ]
  },
  {
   "cell_type": "markdown",
   "metadata": {},
   "source": [
    "## 5. Does claim_amount have an impact on fraudulent behavior? "
   ]
  },
  {
   "cell_type": "code",
   "execution_count": 72,
   "metadata": {},
   "outputs": [
    {
     "data": {
      "text/plain": [
       "fraudulent\n",
       "No     12166.595492\n",
       "Yes    12879.411417\n",
       "Name: claim_amount, dtype: float64"
      ]
     },
     "execution_count": 72,
     "metadata": {},
     "output_type": "execute_result"
    }
   ],
   "source": [
    "import pandas as pd\n",
    "\n",
    "Claims_cust['claim_amount'] = Claims_cust['claim_amount'].replace('[\\$,]', '', regex=True).astype(float)\n",
    "\n",
    "claim_amount_fraud = Claims_cust.groupby(['fraudulent'])['claim_amount'].agg('mean')\n",
    "claim_amount_fraud\n",
    "\n",
    "#Claims_cust.to_csv('out.csv')"
   ]
  },
  {
   "cell_type": "markdown",
   "metadata": {},
   "source": [
    "## Very similar mean of claim amount for Fraudulent and Non Fraudulent"
   ]
  },
  {
   "cell_type": "markdown",
   "metadata": {},
   "source": [
    "## 6. Does Gender have an impct on Fraudulent proportion? "
   ]
  },
  {
   "cell_type": "code",
   "execution_count": 6,
   "metadata": {},
   "outputs": [
    {
     "data": {
      "text/plain": [
       "Text(0, 0.5, 'Proportion of Frauds')"
      ]
     },
     "execution_count": 6,
     "metadata": {},
     "output_type": "execute_result"
    },
    {
     "data": {
      "image/png": "[encoded data removed]",
      "text/plain": [
       "<Figure size 432x288 with 1 Axes>"
      ]
     },
     "metadata": {
      "needs_background": "light"
     },
     "output_type": "display_data"
    }
   ],
   "source": [
    "import pandas as pd \n",
    "import numpy as np\n",
    "import matplotlib.pyplot as plt\n",
    "%matplotlib inline \n",
    "\n",
    "table=pd.crosstab(Claims_cust.gender,Claims_cust.fraudulent)\n",
    "table.div(table.sum(1).astype(float), axis=0).plot(kind='bar', stacked=True)\n",
    "plt.title('Stacked Bar Chart of Gender vs Fraudulent')\n",
    "plt.xlabel('Gender')\n",
    "plt.ylabel('Proportion of Frauds')\n",
    "#plt.savefig('edu_vs_pur_stack')"
   ]
  },
  {
   "cell_type": "markdown",
   "metadata": {},
   "source": [
    "## Fraudulent behavior remains fairly similar for Male and Female"
   ]
  },
  {
   "cell_type": "markdown",
   "metadata": {},
   "source": [
    "## 7. Does segment have an impact on Fraudulent proportion? "
   ]
  },
  {
   "cell_type": "code",
   "execution_count": 7,
   "metadata": {},
   "outputs": [
    {
     "data": {
      "text/plain": [
       "Text(0, 0.5, 'Proportion of Frauds')"
      ]
     },
     "execution_count": 7,
     "metadata": {},
     "output_type": "execute_result"
    },
    {
     "data": {
      "image/png": "[encoded data removed]",
      "text/plain": [
       "<Figure size 432x288 with 1 Axes>"
      ]
     },
     "metadata": {
      "needs_background": "light"
     },
     "output_type": "display_data"
    }
   ],
   "source": [
    "import pandas as pd \n",
    "import numpy as np\n",
    "import matplotlib.pyplot as plt\n",
    "%matplotlib inline \n",
    "\n",
    "table=pd.crosstab(Claims_cust.Segment,Claims_cust.fraudulent)\n",
    "table.div(table.sum(1).astype(float), axis=0).plot(kind='bar', stacked=True)\n",
    "plt.title('Stacked Bar Chart of Segment vs Fraudulent')\n",
    "plt.xlabel('Segment')\n",
    "plt.ylabel('Proportion of Frauds')\n",
    "#plt.savefig('edu_vs_pur_stack')"
   ]
  },
  {
   "cell_type": "markdown",
   "metadata": {},
   "source": [
    "## Proportion of Fraudulent is very similar across all segments"
   ]
  },
  {
   "cell_type": "markdown",
   "metadata": {},
   "source": [
    "## Creating Dummy Variables through one hot encoding"
   ]
  },
  {
   "cell_type": "code",
   "execution_count": 18,
   "metadata": {},
   "outputs": [],
   "source": [
    "import pandas as pd\n",
    "\n",
    "cat_columns = ['gender','Segment','incident_cause','claim_area','claim_type','total_policy_claims']\n",
    "\n",
    "Claims_cust_processed = pd.get_dummies(Claims_cust, prefix_sep=\"__\",\n",
    "                              columns=cat_columns)\n",
    "\n",
    "Claims_cust_processed['claim_amount'] = Claims_cust_processed['claim_amount'].replace('[\\$,]', '', regex=True).astype(float)\n",
    "\n",
    "Claims_cust_processed.head()\n",
    "\n",
    "Claims_cust_processed.to_csv('out.csv')"
   ]
  },
  {
   "cell_type": "markdown",
   "metadata": {},
   "source": [
    "## Splitting data into test and train and preparing Unseen Data"
   ]
  },
  {
   "cell_type": "code",
   "execution_count": 43,
   "metadata": {},
   "outputs": [
    {
     "data": {
      "text/html": [
       "<div>\n",
       "<style scoped>\n",
       "    .dataframe tbody tr th:only-of-type {\n",
       "        vertical-align: middle;\n",
       "    }\n",
       "\n",
       "    .dataframe tbody tr th {\n",
       "        vertical-align: top;\n",
       "    }\n",
       "\n",
       "    .dataframe thead th {\n",
       "        text-align: right;\n",
       "    }\n",
       "</style>\n",
       "<table border=\"1\" class=\"dataframe\">\n",
       "  <thead>\n",
       "    <tr style=\"text-align: right;\">\n",
       "      <th></th>\n",
       "      <th>claim_amount</th>\n",
       "      <th>gender__Female</th>\n",
       "      <th>gender__Male</th>\n",
       "      <th>Segment__Gold</th>\n",
       "      <th>Segment__Platinum</th>\n",
       "      <th>Segment__Silver</th>\n",
       "      <th>incident_cause__Crime</th>\n",
       "      <th>incident_cause__Driver error</th>\n",
       "      <th>incident_cause__Natural causes</th>\n",
       "      <th>incident_cause__Other causes</th>\n",
       "      <th>...</th>\n",
       "      <th>claim_type__Material and injury</th>\n",
       "      <th>claim_type__Material only</th>\n",
       "      <th>total_policy_claims__1</th>\n",
       "      <th>total_policy_claims__2</th>\n",
       "      <th>total_policy_claims__3</th>\n",
       "      <th>total_policy_claims__4</th>\n",
       "      <th>total_policy_claims__5</th>\n",
       "      <th>total_policy_claims__6</th>\n",
       "      <th>total_policy_claims__7</th>\n",
       "      <th>total_policy_claims__8</th>\n",
       "    </tr>\n",
       "  </thead>\n",
       "  <tbody>\n",
       "    <tr>\n",
       "      <th>0</th>\n",
       "      <td>48150.5</td>\n",
       "      <td>1</td>\n",
       "      <td>0</td>\n",
       "      <td>0</td>\n",
       "      <td>0</td>\n",
       "      <td>1</td>\n",
       "      <td>0</td>\n",
       "      <td>1</td>\n",
       "      <td>0</td>\n",
       "      <td>0</td>\n",
       "      <td>...</td>\n",
       "      <td>1</td>\n",
       "      <td>0</td>\n",
       "      <td>0</td>\n",
       "      <td>0</td>\n",
       "      <td>0</td>\n",
       "      <td>1</td>\n",
       "      <td>0</td>\n",
       "      <td>0</td>\n",
       "      <td>0</td>\n",
       "      <td>0</td>\n",
       "    </tr>\n",
       "    <tr>\n",
       "      <th>1</th>\n",
       "      <td>48035.5</td>\n",
       "      <td>1</td>\n",
       "      <td>0</td>\n",
       "      <td>0</td>\n",
       "      <td>1</td>\n",
       "      <td>0</td>\n",
       "      <td>0</td>\n",
       "      <td>1</td>\n",
       "      <td>0</td>\n",
       "      <td>0</td>\n",
       "      <td>...</td>\n",
       "      <td>1</td>\n",
       "      <td>0</td>\n",
       "      <td>1</td>\n",
       "      <td>0</td>\n",
       "      <td>0</td>\n",
       "      <td>0</td>\n",
       "      <td>0</td>\n",
       "      <td>0</td>\n",
       "      <td>0</td>\n",
       "      <td>0</td>\n",
       "    </tr>\n",
       "    <tr>\n",
       "      <th>2</th>\n",
       "      <td>47748.0</td>\n",
       "      <td>0</td>\n",
       "      <td>1</td>\n",
       "      <td>1</td>\n",
       "      <td>0</td>\n",
       "      <td>0</td>\n",
       "      <td>0</td>\n",
       "      <td>1</td>\n",
       "      <td>0</td>\n",
       "      <td>0</td>\n",
       "      <td>...</td>\n",
       "      <td>1</td>\n",
       "      <td>0</td>\n",
       "      <td>0</td>\n",
       "      <td>0</td>\n",
       "      <td>1</td>\n",
       "      <td>0</td>\n",
       "      <td>0</td>\n",
       "      <td>0</td>\n",
       "      <td>0</td>\n",
       "      <td>0</td>\n",
       "    </tr>\n",
       "    <tr>\n",
       "      <th>3</th>\n",
       "      <td>47679.0</td>\n",
       "      <td>1</td>\n",
       "      <td>0</td>\n",
       "      <td>0</td>\n",
       "      <td>0</td>\n",
       "      <td>1</td>\n",
       "      <td>0</td>\n",
       "      <td>0</td>\n",
       "      <td>0</td>\n",
       "      <td>0</td>\n",
       "      <td>...</td>\n",
       "      <td>1</td>\n",
       "      <td>0</td>\n",
       "      <td>0</td>\n",
       "      <td>1</td>\n",
       "      <td>0</td>\n",
       "      <td>0</td>\n",
       "      <td>0</td>\n",
       "      <td>0</td>\n",
       "      <td>0</td>\n",
       "      <td>0</td>\n",
       "    </tr>\n",
       "    <tr>\n",
       "      <th>4</th>\n",
       "      <td>47610.0</td>\n",
       "      <td>0</td>\n",
       "      <td>1</td>\n",
       "      <td>0</td>\n",
       "      <td>1</td>\n",
       "      <td>0</td>\n",
       "      <td>0</td>\n",
       "      <td>0</td>\n",
       "      <td>0</td>\n",
       "      <td>1</td>\n",
       "      <td>...</td>\n",
       "      <td>1</td>\n",
       "      <td>0</td>\n",
       "      <td>0</td>\n",
       "      <td>0</td>\n",
       "      <td>1</td>\n",
       "      <td>0</td>\n",
       "      <td>0</td>\n",
       "      <td>0</td>\n",
       "      <td>0</td>\n",
       "      <td>0</td>\n",
       "    </tr>\n",
       "  </tbody>\n",
       "</table>\n",
       "<p>5 rows × 24 columns</p>\n",
       "</div>"
      ],
      "text/plain": [
       "   claim_amount  gender__Female  gender__Male  Segment__Gold  \\\n",
       "0       48150.5               1             0              0   \n",
       "1       48035.5               1             0              0   \n",
       "2       47748.0               0             1              1   \n",
       "3       47679.0               1             0              0   \n",
       "4       47610.0               0             1              0   \n",
       "\n",
       "   Segment__Platinum  Segment__Silver  incident_cause__Crime  \\\n",
       "0                  0                1                      0   \n",
       "1                  1                0                      0   \n",
       "2                  0                0                      0   \n",
       "3                  0                1                      0   \n",
       "4                  1                0                      0   \n",
       "\n",
       "   incident_cause__Driver error  incident_cause__Natural causes  \\\n",
       "0                             1                               0   \n",
       "1                             1                               0   \n",
       "2                             1                               0   \n",
       "3                             0                               0   \n",
       "4                             0                               0   \n",
       "\n",
       "   incident_cause__Other causes  ...  claim_type__Material and injury  \\\n",
       "0                             0  ...                                1   \n",
       "1                             0  ...                                1   \n",
       "2                             0  ...                                1   \n",
       "3                             0  ...                                1   \n",
       "4                             1  ...                                1   \n",
       "\n",
       "   claim_type__Material only  total_policy_claims__1  total_policy_claims__2  \\\n",
       "0                          0                       0                       0   \n",
       "1                          0                       1                       0   \n",
       "2                          0                       0                       0   \n",
       "3                          0                       0                       1   \n",
       "4                          0                       0                       0   \n",
       "\n",
       "   total_policy_claims__3  total_policy_claims__4  total_policy_claims__5  \\\n",
       "0                       0                       1                       0   \n",
       "1                       0                       0                       0   \n",
       "2                       1                       0                       0   \n",
       "3                       0                       0                       0   \n",
       "4                       1                       0                       0   \n",
       "\n",
       "   total_policy_claims__6  total_policy_claims__7  total_policy_claims__8  \n",
       "0                       0                       0                       0  \n",
       "1                       0                       0                       0  \n",
       "2                       0                       0                       0  \n",
       "3                       0                       0                       0  \n",
       "4                       0                       0                       0  \n",
       "\n",
       "[5 rows x 24 columns]"
      ]
     },
     "execution_count": 43,
     "metadata": {},
     "output_type": "execute_result"
    }
   ],
   "source": [
    "#Claims_cust_processed.head()\n",
    "\n",
    "cols=['claim_amount', 'gender__Female', 'gender__Male', 'Segment__Gold', 'Segment__Platinum','Segment__Silver',\n",
    "     'incident_cause__Crime','incident_cause__Driver error','incident_cause__Natural causes','incident_cause__Other causes',\n",
    "     'incident_cause__Other driver error','claim_area__Auto','claim_area__Home','claim_type__Injury only','claim_type__Material and injury',\n",
    "     'claim_type__Material only','total_policy_claims__1','total_policy_claims__2','total_policy_claims__3','total_policy_claims__4',\n",
    "     'total_policy_claims__5','total_policy_claims__6','total_policy_claims__7','total_policy_claims__8']\n",
    "\n",
    "#cols = []\n",
    "\n",
    "X=Claims_cust_processed[cols]\n",
    "y=Claims_cust_processed['fraudulent_flag']\n",
    "\n",
    "Claims_cust_processed = Claims_cust_processed.dropna(how='any',axis=0) \n",
    "\n",
    "Claims_cust_processed.count()\n",
    "\n",
    "unseen_x = Claims_cust_processed.head(5)\n",
    "\n",
    "#Preparing data for running the model on\n",
    "unseen_x\n",
    "X_1 = unseen_x[cols]\n",
    "Y_1 = unseen_x['fraudulent_flag']\n",
    "\n",
    "#X = X.dropna(how='any',axis=0) \n",
    "#y = y.dropna(how='any',axis=0) \n",
    "\n",
    "#Y_1\n",
    "\n",
    "X_1"
   ]
  },
  {
   "cell_type": "markdown",
   "metadata": {},
   "source": [
    "## Running logistic regression "
   ]
  },
  {
   "cell_type": "code",
   "execution_count": 44,
   "metadata": {},
   "outputs": [
    {
     "name": "stderr",
     "output_type": "stream",
     "text": [
      "C:\\Users\\DELL\\Anaconda3\\lib\\site-packages\\sklearn\\linear_model\\logistic.py:433: FutureWarning: Default solver will be changed to 'lbfgs' in 0.22. Specify a solver to silence this warning.\n",
      "  FutureWarning)\n"
     ]
    },
    {
     "data": {
      "text/plain": [
       "0.7601476014760148"
      ]
     },
     "execution_count": 44,
     "metadata": {},
     "output_type": "execute_result"
    }
   ],
   "source": [
    "from sklearn.model_selection import train_test_split \n",
    "from sklearn.linear_model import LogisticRegression\n",
    "\n",
    "Xtrain, Xtest, ytrain, ytest = train_test_split(X,y,random_state=12)\n",
    "\n",
    "logreg = LogisticRegression()\n",
    "logreg.fit(Xtrain, ytrain)\n",
    "logreg.score(Xtest,ytest)\n",
    "\n",
    "#logreg.predict(X_1)"
   ]
  },
  {
   "cell_type": "markdown",
   "metadata": {},
   "source": [
    "## Trying to improve accuracy by using GaussianNB"
   ]
  },
  {
   "cell_type": "code",
   "execution_count": 48,
   "metadata": {},
   "outputs": [
    {
     "data": {
      "text/plain": [
       "0.7638376383763837"
      ]
     },
     "execution_count": 48,
     "metadata": {},
     "output_type": "execute_result"
    }
   ],
   "source": [
    "from sklearn.model_selection import train_test_split \n",
    "from sklearn.naive_bayes import GaussianNB\n",
    "\n",
    "Xtrain, Xtest, ytrain, ytest = train_test_split(X,y,random_state=20)\n",
    "\n",
    "gaussian = GaussianNB()\n",
    "\n",
    "gaussian.fit(Xtrain, ytrain)\n",
    "gaussian.score(Xtest, ytest)\n",
    "\n",
    "#gaussian.predict(X_1)"
   ]
  },
  {
   "cell_type": "markdown",
   "metadata": {},
   "source": [
    "## Trying to improve accuracy by using Decision Tree Classifier "
   ]
  },
  {
   "cell_type": "code",
   "execution_count": 49,
   "metadata": {},
   "outputs": [
    {
     "data": {
      "text/plain": [
       "0.7047970479704797"
      ]
     },
     "execution_count": 49,
     "metadata": {},
     "output_type": "execute_result"
    }
   ],
   "source": [
    "from sklearn.model_selection import train_test_split \n",
    "from sklearn.tree import DecisionTreeClassifier\n",
    "\n",
    "Xtrain, Xtest, ytrain, ytest = train_test_split(X,y,random_state=12)\n",
    "\n",
    "decision_tree = DecisionTreeClassifier(random_state=22)\n",
    "\n",
    "decision_tree.fit(Xtrain,ytrain)\n",
    "decision_tree.score(Xtest,ytest)"
   ]
  },
  {
   "cell_type": "markdown",
   "metadata": {},
   "source": [
    "## We can go for either Logistic Regression or GaussianNB classifier as they have the maximum accuracy in predicting the fraudulent claims"
   ]
  }
 ],
 "metadata": {
  "kernelspec": {
   "display_name": "Python 3",
   "language": "python",
   "name": "python3"
  },
  "language_info": {
   "codemirror_mode": {
    "name": "ipython",
    "version": 3
   },
   "file_extension": ".py",
   "mimetype": "text/x-python",
   "name": "python",
   "nbconvert_exporter": "python",
   "pygments_lexer": "ipython3",
   "version": "3.7.3"
  }
 },
 "nbformat": 4,
 "nbformat_minor": 2
}
