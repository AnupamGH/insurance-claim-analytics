{
 "cells": [
  {
   "cell_type": "markdown",
   "metadata": {},
   "source": [
    "## Importing Data and Merging "
   ]
  },
  {
   "cell_type": "code",
   "execution_count": 1,
   "metadata": {},
   "outputs": [
    {
     "data": {
      "text/html": [
       "<div>\n",
       "<style scoped>\n",
       "    .dataframe tbody tr th:only-of-type {\n",
       "        vertical-align: middle;\n",
       "    }\n",
       "\n",
       "    .dataframe tbody tr th {\n",
       "        vertical-align: top;\n",
       "    }\n",
       "\n",
       "    .dataframe thead th {\n",
       "        text-align: right;\n",
       "    }\n",
       "</style>\n",
       "<table border=\"1\" class=\"dataframe\">\n",
       "  <thead>\n",
       "    <tr style=\"text-align: right;\">\n",
       "      <th></th>\n",
       "      <th>claim_id</th>\n",
       "      <th>customer_id</th>\n",
       "      <th>incident_cause</th>\n",
       "      <th>claim_date</th>\n",
       "      <th>claim_area</th>\n",
       "      <th>police_report</th>\n",
       "      <th>claim_type</th>\n",
       "      <th>claim_amount</th>\n",
       "      <th>total_policy_claims</th>\n",
       "      <th>fraudulent</th>\n",
       "      <th>CUST_ID</th>\n",
       "      <th>gender</th>\n",
       "      <th>DateOfBirth</th>\n",
       "      <th>State</th>\n",
       "      <th>Contact</th>\n",
       "      <th>Segment</th>\n",
       "      <th>fraudulent_flag</th>\n",
       "    </tr>\n",
       "  </thead>\n",
       "  <tbody>\n",
       "    <tr>\n",
       "      <td>0</td>\n",
       "      <td>54004764</td>\n",
       "      <td>21868593</td>\n",
       "      <td>Driver error</td>\n",
       "      <td>11/27/2017</td>\n",
       "      <td>Auto</td>\n",
       "      <td>No</td>\n",
       "      <td>Material only</td>\n",
       "      <td>$2980</td>\n",
       "      <td>1</td>\n",
       "      <td>No</td>\n",
       "      <td>21868593.0</td>\n",
       "      <td>Female</td>\n",
       "      <td>12-Jan-79</td>\n",
       "      <td>VT</td>\n",
       "      <td>789-916-8172</td>\n",
       "      <td>Platinum</td>\n",
       "      <td>0.0</td>\n",
       "    </tr>\n",
       "    <tr>\n",
       "      <td>1</td>\n",
       "      <td>33985796</td>\n",
       "      <td>75740424</td>\n",
       "      <td>Crime</td>\n",
       "      <td>10/03/2018</td>\n",
       "      <td>Home</td>\n",
       "      <td>Unknown</td>\n",
       "      <td>Material only</td>\n",
       "      <td>$2980</td>\n",
       "      <td>3</td>\n",
       "      <td>No</td>\n",
       "      <td>75740424.0</td>\n",
       "      <td>Female</td>\n",
       "      <td>13-Jan-70</td>\n",
       "      <td>ME</td>\n",
       "      <td>265-543-1264</td>\n",
       "      <td>Silver</td>\n",
       "      <td>0.0</td>\n",
       "    </tr>\n",
       "    <tr>\n",
       "      <td>2</td>\n",
       "      <td>53522022</td>\n",
       "      <td>30308357</td>\n",
       "      <td>Other driver error</td>\n",
       "      <td>02/02/2018</td>\n",
       "      <td>Auto</td>\n",
       "      <td>No</td>\n",
       "      <td>Material only</td>\n",
       "      <td>$3369.5</td>\n",
       "      <td>1</td>\n",
       "      <td>Yes</td>\n",
       "      <td>30308357.0</td>\n",
       "      <td>Female</td>\n",
       "      <td>11-Mar-84</td>\n",
       "      <td>TN</td>\n",
       "      <td>798-631-4758</td>\n",
       "      <td>Silver</td>\n",
       "      <td>1.0</td>\n",
       "    </tr>\n",
       "    <tr>\n",
       "      <td>3</td>\n",
       "      <td>13015401</td>\n",
       "      <td>47830476</td>\n",
       "      <td>Natural causes</td>\n",
       "      <td>06/17/2018</td>\n",
       "      <td>Auto</td>\n",
       "      <td>No</td>\n",
       "      <td>Material only</td>\n",
       "      <td>$1680</td>\n",
       "      <td>1</td>\n",
       "      <td>No</td>\n",
       "      <td>47830476.0</td>\n",
       "      <td>Female</td>\n",
       "      <td>01-May-86</td>\n",
       "      <td>MA</td>\n",
       "      <td>413-187-7945</td>\n",
       "      <td>Silver</td>\n",
       "      <td>0.0</td>\n",
       "    </tr>\n",
       "    <tr>\n",
       "      <td>4</td>\n",
       "      <td>22890252</td>\n",
       "      <td>19269962</td>\n",
       "      <td>Crime</td>\n",
       "      <td>01/13/2018</td>\n",
       "      <td>Auto</td>\n",
       "      <td>No</td>\n",
       "      <td>Material only</td>\n",
       "      <td>$2680</td>\n",
       "      <td>1</td>\n",
       "      <td>No</td>\n",
       "      <td>19269962.0</td>\n",
       "      <td>Male</td>\n",
       "      <td>13-May-77</td>\n",
       "      <td>NV</td>\n",
       "      <td>956-871-8691</td>\n",
       "      <td>Gold</td>\n",
       "      <td>0.0</td>\n",
       "    </tr>\n",
       "  </tbody>\n",
       "</table>\n",
       "</div>"
      ],
      "text/plain": [
       "   claim_id  customer_id      incident_cause  claim_date claim_area  \\\n",
       "0  54004764     21868593        Driver error  11/27/2017       Auto   \n",
       "1  33985796     75740424               Crime  10/03/2018       Home   \n",
       "2  53522022     30308357  Other driver error  02/02/2018       Auto   \n",
       "3  13015401     47830476      Natural causes  06/17/2018       Auto   \n",
       "4  22890252     19269962               Crime  01/13/2018       Auto   \n",
       "\n",
       "  police_report     claim_type claim_amount  total_policy_claims fraudulent  \\\n",
       "0            No  Material only        $2980                    1         No   \n",
       "1       Unknown  Material only        $2980                    3         No   \n",
       "2            No  Material only      $3369.5                    1        Yes   \n",
       "3            No  Material only        $1680                    1         No   \n",
       "4            No  Material only        $2680                    1         No   \n",
       "\n",
       "      CUST_ID  gender DateOfBirth State       Contact   Segment  \\\n",
       "0  21868593.0  Female   12-Jan-79    VT  789-916-8172  Platinum   \n",
       "1  75740424.0  Female   13-Jan-70    ME  265-543-1264    Silver   \n",
       "2  30308357.0  Female   11-Mar-84    TN  798-631-4758    Silver   \n",
       "3  47830476.0  Female   01-May-86    MA  413-187-7945    Silver   \n",
       "4  19269962.0    Male   13-May-77    NV  956-871-8691      Gold   \n",
       "\n",
       "   fraudulent_flag  \n",
       "0              0.0  \n",
       "1              0.0  \n",
       "2              1.0  \n",
       "3              0.0  \n",
       "4              0.0  "
      ]
     },
     "execution_count": 1,
     "metadata": {},
     "output_type": "execute_result"
    }
   ],
   "source": [
    "import pandas as pd\n",
    "import numpy as np\n",
    "\n",
    "claims = pd.read_csv('../data/claims.csv')\n",
    "cust_demographics = pd.read_csv('../data/cust_demographics.csv')\n",
    "\n",
    "Claims_cust = pd.merge(claims,\n",
    "                 cust_demographics,left_on='customer_id',\n",
    "                 right_on='CUST_ID', how='left')\n",
    "\n",
    "\n",
    "Claims_cust.loc[Claims_cust.fraudulent == 'Yes', 'fraudulent_flag'] = 1 \n",
    "Claims_cust.loc[Claims_cust.fraudulent == 'No', 'fraudulent_flag'] = 0\n",
    "\n",
    "Claims_cust.head()"
   ]
  },
  {
   "cell_type": "markdown",
   "metadata": {},
   "source": [
    "## Data Exploration"
   ]
  },
  {
   "cell_type": "markdown",
   "metadata": {},
   "source": [
    "## 1. Calculating the proportion of fraudulent vs non fraudulent in the flag column"
   ]
  },
  {
   "cell_type": "code",
   "execution_count": 2,
   "metadata": {},
   "outputs": [
    {
     "data": {
      "image/png": "[encoded data removed]",
      "text/plain": [
       "<Figure size 432x288 with 1 Axes>"
      ]
     },
     "metadata": {
      "needs_background": "light"
     },
     "output_type": "display_data"
    },
    {
     "name": "stdout",
     "output_type": "stream",
     "text": [
      "Percentage of no fraud is 76.9090909090909\n",
      "Percentage of fraud 23.09090909090909\n"
     ]
    }
   ],
   "source": [
    "Claims_cust['fraudulent'].value_counts()\n",
    "\n",
    "import matplotlib.pyplot as plt\n",
    "%matplotlib inline \n",
    "import seaborn as sns\n",
    "\n",
    "sns.countplot(x='fraudulent',data=Claims_cust)\n",
    "plt.show()\n",
    "\n",
    "count_no_fraud = len(Claims_cust[Claims_cust['fraudulent']=='No'])\n",
    "count_fraud = len(Claims_cust[Claims_cust['fraudulent']=='Yes'])\n",
    "pct_of_no_fraud = count_no_fraud/(count_no_fraud+count_fraud)\n",
    "print(\"Percentage of no fraud is\", pct_of_no_fraud*100)\n",
    "pct_of_fraud = count_fraud/(count_no_fraud+count_fraud)\n",
    "print(\"Percentage of fraud\", pct_of_fraud*100)"
   ]
  },
  {
   "cell_type": "markdown",
   "metadata": {},
   "source": [
    "## 2. Trend of Incident Cause with Fraudulent - Does Incident Cause have an impact on Fraudulent behaviour?"
   ]
  },
  {
   "cell_type": "code",
   "execution_count": 3,
   "metadata": {},
   "outputs": [
    {
     "data": {
      "text/html": [
       "<div>\n",
       "<style scoped>\n",
       "    .dataframe tbody tr th:only-of-type {\n",
       "        vertical-align: middle;\n",
       "    }\n",
       "\n",
       "    .dataframe tbody tr th {\n",
       "        vertical-align: top;\n",
       "    }\n",
       "\n",
       "    .dataframe thead th {\n",
       "        text-align: right;\n",
       "    }\n",
       "</style>\n",
       "<table border=\"1\" class=\"dataframe\">\n",
       "  <thead>\n",
       "    <tr style=\"text-align: right;\">\n",
       "      <th></th>\n",
       "      <th>claim_cause_fraud</th>\n",
       "      <th>claim_cause_total</th>\n",
       "      <th>fraud_perc</th>\n",
       "    </tr>\n",
       "    <tr>\n",
       "      <th>incident_cause</th>\n",
       "      <th></th>\n",
       "      <th></th>\n",
       "      <th></th>\n",
       "    </tr>\n",
       "  </thead>\n",
       "  <tbody>\n",
       "    <tr>\n",
       "      <td>Crime</td>\n",
       "      <td>28</td>\n",
       "      <td>110</td>\n",
       "      <td>25.454545</td>\n",
       "    </tr>\n",
       "    <tr>\n",
       "      <td>Driver error</td>\n",
       "      <td>59</td>\n",
       "      <td>262</td>\n",
       "      <td>22.519084</td>\n",
       "    </tr>\n",
       "    <tr>\n",
       "      <td>Natural causes</td>\n",
       "      <td>40</td>\n",
       "      <td>189</td>\n",
       "      <td>21.164021</td>\n",
       "    </tr>\n",
       "    <tr>\n",
       "      <td>Other causes</td>\n",
       "      <td>71</td>\n",
       "      <td>290</td>\n",
       "      <td>24.482759</td>\n",
       "    </tr>\n",
       "    <tr>\n",
       "      <td>Other driver error</td>\n",
       "      <td>56</td>\n",
       "      <td>249</td>\n",
       "      <td>22.489960</td>\n",
       "    </tr>\n",
       "  </tbody>\n",
       "</table>\n",
       "</div>"
      ],
      "text/plain": [
       "                    claim_cause_fraud  claim_cause_total  fraud_perc\n",
       "incident_cause                                                      \n",
       "Crime                              28                110   25.454545\n",
       "Driver error                       59                262   22.519084\n",
       "Natural causes                     40                189   21.164021\n",
       "Other causes                       71                290   24.482759\n",
       "Other driver error                 56                249   22.489960"
      ]
     },
     "execution_count": 3,
     "metadata": {},
     "output_type": "execute_result"
    }
   ],
   "source": [
    "import matplotlib.pyplot as plt\n",
    "%matplotlib inline \n",
    "import seaborn as sns\n",
    "import pandas as pd\n",
    "\n",
    "claims_cust_yes = Claims_cust.loc[Claims_cust['fraudulent'] == 'Yes']\n",
    "claims_cust_yes.count()\n",
    "\n",
    "incident_cause_fraud = claims_cust_yes.groupby(['incident_cause'])['fraudulent'].agg('count')\n",
    "incident_cause_fraud\n",
    "\n",
    "incident_cause_fraud_2 = incident_cause_fraud.to_frame(name='claim_cause_fraud')\n",
    "incident_cause_fraud_2.head()\n",
    "\n",
    "Claims_incident_cause = Claims_cust.groupby(['incident_cause'])['fraudulent'].agg('count')\n",
    "Claims_incident_cause_2 = Claims_incident_cause.to_frame(name='claim_cause_total')\n",
    "Claims_incident_cause_2.head()\n",
    "\n",
    "\n",
    "Claims_cust_3 = pd.merge(incident_cause_fraud_2,\n",
    "                 Claims_incident_cause_2,on = 'incident_cause',\n",
    "                how='left')\n",
    "Claims_cust_3.head()\n",
    "\n",
    "Claims_cust_3['fraud_perc'] = (Claims_cust_3['claim_cause_fraud']/Claims_cust_3['claim_cause_total'])*100\n",
    "\n",
    "Claims_cust_3.head()\n",
    "\n",
    "#plt.savefig('edu_vs_pur_stack')"
   ]
  },
  {
   "cell_type": "markdown",
   "metadata": {},
   "source": [
    "## We observe that the fraud percentage is very similar across incident causes"
   ]
  },
  {
   "cell_type": "markdown",
   "metadata": {},
   "source": [
    "## 3. Trend of Claim Area with fraudulent - Does claim area have an impact on fraudulent? "
   ]
  },
  {
   "cell_type": "code",
   "execution_count": 4,
   "metadata": {},
   "outputs": [
    {
     "data": {
      "text/plain": [
       "Text(0, 0.5, 'Proportion of Frauds')"
      ]
     },
     "execution_count": 4,
     "metadata": {},
     "output_type": "execute_result"
    },
    {
     "data": {
      "image/png": "[encoded data removed]",
      "text/plain": [
       "<Figure size 432x288 with 1 Axes>"
      ]
     },
     "metadata": {
      "needs_background": "light"
     },
     "output_type": "display_data"
    }
   ],
   "source": [
    "import pandas as pd\n",
    "\n",
    "table=pd.crosstab(Claims_cust.claim_area,Claims_cust.fraudulent)\n",
    "table.div(table.sum(1).astype(float), axis=0).plot(kind='bar', stacked=True)\n",
    "plt.title('Stacked Bar Chart of Claim Area vs Fraudulent')\n",
    "plt.xlabel('Claim Area')\n",
    "plt.ylabel('Proportion of Frauds')\n",
    "#plt.savefig('edu_vs_pur_stack')\n"
   ]
  },
  {
   "cell_type": "markdown",
   "metadata": {},
   "source": [
    "## Very minimal difference between fraudulent of auto and home"
   ]
  },
  {
   "cell_type": "markdown",
   "metadata": {},
   "source": [
    "## 4. Trend of claim_type with fraudulent proportion"
   ]
  },
  {
   "cell_type": "code",
   "execution_count": 5,
   "metadata": {},
   "outputs": [
    {
     "data": {
      "text/plain": [
       "Text(0, 0.5, 'Proportion of Frauds')"
      ]
     },
     "execution_count": 5,
     "metadata": {},
     "output_type": "execute_result"
    },
    {
     "data": {
      "image/png": "[encoded data removed]",
      "text/plain": [
       "<Figure size 432x288 with 1 Axes>"
      ]
     },
     "metadata": {
      "needs_background": "light"
     },
     "output_type": "display_data"
    }
   ],
   "source": [
    "claim_type_fraud = claims_cust_yes.groupby(['claim_type'])['fraudulent'].agg('count')\n",
    "claim_type_fraud\n",
    "\n",
    "claim_type_fraud_2 = claim_type_fraud.to_frame(name='claim_type_fraud')\n",
    "#claim_type_fraud_2.head()\n",
    "\n",
    "Claims_type = Claims_cust.groupby(['claim_type'])['fraudulent'].agg('count')\n",
    "claim_type_type_2 = Claims_type.to_frame(name='claim_type_total')\n",
    "#claim_type_type_2.head()\n",
    "\n",
    "\n",
    "Claims_cust_2 = pd.merge(claim_type_fraud_2,\n",
    "                 claim_type_type_2,on = 'claim_type',\n",
    "                how='left')\n",
    "#Claims_cust.head()\n",
    "\n",
    "Claims_cust_2['fraud_perc'] = (Claims_cust_2['claim_type_fraud']/Claims_cust_2['claim_type_total'])*100\n",
    "\n",
    "#Claims_cust_2.head()\n",
    "\n",
    "table=pd.crosstab(Claims_cust.claim_type,Claims_cust.fraudulent)\n",
    "table.div(table.sum(1).astype(float), axis=0).plot(kind='bar', stacked=True)\n",
    "plt.title('Stacked Bar Chart of Claim type vs Fraudulent')\n",
    "plt.xlabel('Claim claim type')\n",
    "plt.ylabel('Proportion of Frauds')\n",
    "#plt.savefig('edu_vs_pur_stack')\n",
    "\n"
   ]
  },
  {
   "cell_type": "markdown",
   "metadata": {},
   "source": [
    "## Materials and Injury and Material Only types tend to have higher fraud percentage as compared to Injury only"
   ]
  },
  {
   "cell_type": "markdown",
   "metadata": {},
   "source": [
    "## 5. Does claim_amount have an impact on fraudulent behavior? "
   ]
  },
  {
   "cell_type": "code",
   "execution_count": 6,
   "metadata": {},
   "outputs": [
    {
     "data": {
      "text/plain": [
       "fraudulent\n",
       "No     12166.595492\n",
       "Yes    12879.411417\n",
       "Name: claim_amount, dtype: float64"
      ]
     },
     "execution_count": 6,
     "metadata": {},
     "output_type": "execute_result"
    }
   ],
   "source": [
    "import pandas as pd\n",
    "\n",
    "Claims_cust['claim_amount'] = Claims_cust['claim_amount'].replace('[\\$,]', '', regex=True).astype(float)\n",
    "\n",
    "claim_amount_fraud = Claims_cust.groupby(['fraudulent'])['claim_amount'].agg('mean')\n",
    "claim_amount_fraud\n",
    "\n",
    "#Claims_cust.to_csv('out.csv')"
   ]
  },
  {
   "cell_type": "markdown",
   "metadata": {},
   "source": [
    "## Very similar mean of claim amount for Fraudulent and Non Fraudulent"
   ]
  },
  {
   "cell_type": "markdown",
   "metadata": {},
   "source": [
    "## 6. Does Gender have an impct on Fraudulent proportion? "
   ]
  },
  {
   "cell_type": "code",
   "execution_count": 7,
   "metadata": {},
   "outputs": [
    {
     "data": {
      "text/plain": [
       "Text(0, 0.5, 'Proportion of Frauds')"
      ]
     },
     "execution_count": 7,
     "metadata": {},
     "output_type": "execute_result"
    },
    {
     "data": {
      "image/png": "[encoded data removed]",
      "text/plain": [
       "<Figure size 432x288 with 1 Axes>"
      ]
     },
     "metadata": {
      "needs_background": "light"
     },
     "output_type": "display_data"
    }
   ],
   "source": [
    "import pandas as pd \n",
    "import numpy as np\n",
    "import matplotlib.pyplot as plt\n",
    "%matplotlib inline \n",
    "\n",
    "table=pd.crosstab(Claims_cust.gender,Claims_cust.fraudulent)\n",
    "table.div(table.sum(1).astype(float), axis=0).plot(kind='bar', stacked=True)\n",
    "plt.title('Stacked Bar Chart of Gender vs Fraudulent')\n",
    "plt.xlabel('Gender')\n",
    "plt.ylabel('Proportion of Frauds')\n",
    "#plt.savefig('edu_vs_pur_stack')"
   ]
  },
  {
   "cell_type": "markdown",
   "metadata": {},
   "source": [
    "## Fraudulent behavior remains fairly similar for Male and Female"
   ]
  },
  {
   "cell_type": "markdown",
   "metadata": {},
   "source": [
    "## 7. Does segment have an impact on Fraudulent proportion? "
   ]
  },
  {
   "cell_type": "code",
   "execution_count": 8,
   "metadata": {},
   "outputs": [
    {
     "data": {
      "text/plain": [
       "Text(0, 0.5, 'Proportion of Frauds')"
      ]
     },
     "execution_count": 8,
     "metadata": {},
     "output_type": "execute_result"
    },
    {
     "data": {
      "image/png": "[encoded data removed]",
      "text/plain": [
       "<Figure size 432x288 with 1 Axes>"
      ]
     },
     "metadata": {
      "needs_background": "light"
     },
     "output_type": "display_data"
    }
   ],
   "source": [
    "import pandas as pd \n",
    "import numpy as np\n",
    "import matplotlib.pyplot as plt\n",
    "%matplotlib inline \n",
    "\n",
    "table=pd.crosstab(Claims_cust.Segment,Claims_cust.fraudulent)\n",
    "table.div(table.sum(1).astype(float), axis=0).plot(kind='bar', stacked=True)\n",
    "plt.title('Stacked Bar Chart of Segment vs Fraudulent')\n",
    "plt.xlabel('Segment')\n",
    "plt.ylabel('Proportion of Frauds')\n",
    "#plt.savefig('edu_vs_pur_stack')"
   ]
  },
  {
   "cell_type": "markdown",
   "metadata": {},
   "source": [
    "## Proportion of Fraudulent is very similar across all segments"
   ]
  },
  {
   "cell_type": "markdown",
   "metadata": {},
   "source": [
    "## Creating Dummy Variables through one hot encoding for the categorical features"
   ]
  },
  {
   "cell_type": "code",
   "execution_count": 9,
   "metadata": {},
   "outputs": [],
   "source": [
    "import pandas as pd\n",
    "\n",
    "cat_columns = ['gender','Segment','incident_cause','claim_area','claim_type','total_policy_claims']\n",
    "\n",
    "Claims_cust_processed = pd.get_dummies(Claims_cust, prefix_sep=\"__\",\n",
    "                              columns=cat_columns)\n",
    "\n",
    "Claims_cust_processed['claim_amount'] = Claims_cust_processed['claim_amount'].replace('[\\$,]', '', regex=True).astype(float)\n",
    "\n",
    "Claims_cust_processed.head()\n",
    "\n",
    "Claims_cust_processed.to_csv('out.csv')"
   ]
  },
  {
   "cell_type": "markdown",
   "metadata": {},
   "source": [
    "## Splitting data into independent and dependent features and preparing Unseen Data"
   ]
  },
  {
   "cell_type": "code",
   "execution_count": 10,
   "metadata": {},
   "outputs": [
    {
     "data": {
      "text/html": [
       "<div>\n",
       "<style scoped>\n",
       "    .dataframe tbody tr th:only-of-type {\n",
       "        vertical-align: middle;\n",
       "    }\n",
       "\n",
       "    .dataframe tbody tr th {\n",
       "        vertical-align: top;\n",
       "    }\n",
       "\n",
       "    .dataframe thead th {\n",
       "        text-align: right;\n",
       "    }\n",
       "</style>\n",
       "<table border=\"1\" class=\"dataframe\">\n",
       "  <thead>\n",
       "    <tr style=\"text-align: right;\">\n",
       "      <th></th>\n",
       "      <th>claim_amount</th>\n",
       "      <th>gender__Female</th>\n",
       "      <th>gender__Male</th>\n",
       "      <th>Segment__Gold</th>\n",
       "      <th>Segment__Platinum</th>\n",
       "      <th>Segment__Silver</th>\n",
       "      <th>incident_cause__Crime</th>\n",
       "      <th>incident_cause__Driver error</th>\n",
       "      <th>incident_cause__Natural causes</th>\n",
       "      <th>incident_cause__Other causes</th>\n",
       "      <th>...</th>\n",
       "      <th>claim_type__Material and injury</th>\n",
       "      <th>claim_type__Material only</th>\n",
       "      <th>total_policy_claims__1</th>\n",
       "      <th>total_policy_claims__2</th>\n",
       "      <th>total_policy_claims__3</th>\n",
       "      <th>total_policy_claims__4</th>\n",
       "      <th>total_policy_claims__5</th>\n",
       "      <th>total_policy_claims__6</th>\n",
       "      <th>total_policy_claims__7</th>\n",
       "      <th>total_policy_claims__8</th>\n",
       "    </tr>\n",
       "  </thead>\n",
       "  <tbody>\n",
       "    <tr>\n",
       "      <td>0</td>\n",
       "      <td>2980.0</td>\n",
       "      <td>1</td>\n",
       "      <td>0</td>\n",
       "      <td>0</td>\n",
       "      <td>1</td>\n",
       "      <td>0</td>\n",
       "      <td>0</td>\n",
       "      <td>1</td>\n",
       "      <td>0</td>\n",
       "      <td>0</td>\n",
       "      <td>...</td>\n",
       "      <td>0</td>\n",
       "      <td>1</td>\n",
       "      <td>1</td>\n",
       "      <td>0</td>\n",
       "      <td>0</td>\n",
       "      <td>0</td>\n",
       "      <td>0</td>\n",
       "      <td>0</td>\n",
       "      <td>0</td>\n",
       "      <td>0</td>\n",
       "    </tr>\n",
       "    <tr>\n",
       "      <td>1</td>\n",
       "      <td>2980.0</td>\n",
       "      <td>1</td>\n",
       "      <td>0</td>\n",
       "      <td>0</td>\n",
       "      <td>0</td>\n",
       "      <td>1</td>\n",
       "      <td>1</td>\n",
       "      <td>0</td>\n",
       "      <td>0</td>\n",
       "      <td>0</td>\n",
       "      <td>...</td>\n",
       "      <td>0</td>\n",
       "      <td>1</td>\n",
       "      <td>0</td>\n",
       "      <td>0</td>\n",
       "      <td>1</td>\n",
       "      <td>0</td>\n",
       "      <td>0</td>\n",
       "      <td>0</td>\n",
       "      <td>0</td>\n",
       "      <td>0</td>\n",
       "    </tr>\n",
       "    <tr>\n",
       "      <td>2</td>\n",
       "      <td>3369.5</td>\n",
       "      <td>1</td>\n",
       "      <td>0</td>\n",
       "      <td>0</td>\n",
       "      <td>0</td>\n",
       "      <td>1</td>\n",
       "      <td>0</td>\n",
       "      <td>0</td>\n",
       "      <td>0</td>\n",
       "      <td>0</td>\n",
       "      <td>...</td>\n",
       "      <td>0</td>\n",
       "      <td>1</td>\n",
       "      <td>1</td>\n",
       "      <td>0</td>\n",
       "      <td>0</td>\n",
       "      <td>0</td>\n",
       "      <td>0</td>\n",
       "      <td>0</td>\n",
       "      <td>0</td>\n",
       "      <td>0</td>\n",
       "    </tr>\n",
       "    <tr>\n",
       "      <td>3</td>\n",
       "      <td>1680.0</td>\n",
       "      <td>1</td>\n",
       "      <td>0</td>\n",
       "      <td>0</td>\n",
       "      <td>0</td>\n",
       "      <td>1</td>\n",
       "      <td>0</td>\n",
       "      <td>0</td>\n",
       "      <td>1</td>\n",
       "      <td>0</td>\n",
       "      <td>...</td>\n",
       "      <td>0</td>\n",
       "      <td>1</td>\n",
       "      <td>1</td>\n",
       "      <td>0</td>\n",
       "      <td>0</td>\n",
       "      <td>0</td>\n",
       "      <td>0</td>\n",
       "      <td>0</td>\n",
       "      <td>0</td>\n",
       "      <td>0</td>\n",
       "    </tr>\n",
       "    <tr>\n",
       "      <td>4</td>\n",
       "      <td>2680.0</td>\n",
       "      <td>0</td>\n",
       "      <td>1</td>\n",
       "      <td>1</td>\n",
       "      <td>0</td>\n",
       "      <td>0</td>\n",
       "      <td>1</td>\n",
       "      <td>0</td>\n",
       "      <td>0</td>\n",
       "      <td>0</td>\n",
       "      <td>...</td>\n",
       "      <td>0</td>\n",
       "      <td>1</td>\n",
       "      <td>1</td>\n",
       "      <td>0</td>\n",
       "      <td>0</td>\n",
       "      <td>0</td>\n",
       "      <td>0</td>\n",
       "      <td>0</td>\n",
       "      <td>0</td>\n",
       "      <td>0</td>\n",
       "    </tr>\n",
       "  </tbody>\n",
       "</table>\n",
       "<p>5 rows × 24 columns</p>\n",
       "</div>"
      ],
      "text/plain": [
       "   claim_amount  gender__Female  gender__Male  Segment__Gold  \\\n",
       "0        2980.0               1             0              0   \n",
       "1        2980.0               1             0              0   \n",
       "2        3369.5               1             0              0   \n",
       "3        1680.0               1             0              0   \n",
       "4        2680.0               0             1              1   \n",
       "\n",
       "   Segment__Platinum  Segment__Silver  incident_cause__Crime  \\\n",
       "0                  1                0                      0   \n",
       "1                  0                1                      1   \n",
       "2                  0                1                      0   \n",
       "3                  0                1                      0   \n",
       "4                  0                0                      1   \n",
       "\n",
       "   incident_cause__Driver error  incident_cause__Natural causes  \\\n",
       "0                             1                               0   \n",
       "1                             0                               0   \n",
       "2                             0                               0   \n",
       "3                             0                               1   \n",
       "4                             0                               0   \n",
       "\n",
       "   incident_cause__Other causes  ...  claim_type__Material and injury  \\\n",
       "0                             0  ...                                0   \n",
       "1                             0  ...                                0   \n",
       "2                             0  ...                                0   \n",
       "3                             0  ...                                0   \n",
       "4                             0  ...                                0   \n",
       "\n",
       "   claim_type__Material only  total_policy_claims__1  total_policy_claims__2  \\\n",
       "0                          1                       1                       0   \n",
       "1                          1                       0                       0   \n",
       "2                          1                       1                       0   \n",
       "3                          1                       1                       0   \n",
       "4                          1                       1                       0   \n",
       "\n",
       "   total_policy_claims__3  total_policy_claims__4  total_policy_claims__5  \\\n",
       "0                       0                       0                       0   \n",
       "1                       1                       0                       0   \n",
       "2                       0                       0                       0   \n",
       "3                       0                       0                       0   \n",
       "4                       0                       0                       0   \n",
       "\n",
       "   total_policy_claims__6  total_policy_claims__7  total_policy_claims__8  \n",
       "0                       0                       0                       0  \n",
       "1                       0                       0                       0  \n",
       "2                       0                       0                       0  \n",
       "3                       0                       0                       0  \n",
       "4                       0                       0                       0  \n",
       "\n",
       "[5 rows x 24 columns]"
      ]
     },
     "execution_count": 10,
     "metadata": {},
     "output_type": "execute_result"
    }
   ],
   "source": [
    "#Claims_cust_processed.head()\n",
    "\n",
    "cols=['claim_amount', 'gender__Female', 'gender__Male', 'Segment__Gold', 'Segment__Platinum','Segment__Silver',\n",
    "     'incident_cause__Crime','incident_cause__Driver error','incident_cause__Natural causes','incident_cause__Other causes',\n",
    "     'incident_cause__Other driver error','claim_area__Auto','claim_area__Home','claim_type__Injury only','claim_type__Material and injury',\n",
    "     'claim_type__Material only','total_policy_claims__1','total_policy_claims__2','total_policy_claims__3','total_policy_claims__4',\n",
    "     'total_policy_claims__5','total_policy_claims__6','total_policy_claims__7','total_policy_claims__8']\n",
    "\n",
    "#cols = []\n",
    "\n",
    "Claims_cust_processed = Claims_cust_processed.dropna(how='any',axis=0) \n",
    "\n",
    "X=Claims_cust_processed[cols]\n",
    "y=Claims_cust_processed['fraudulent_flag']\n",
    "\n",
    "Claims_cust_processed.count()\n",
    "\n",
    "unseen_x = Claims_cust_processed.head(5)\n",
    "\n",
    "#Preparing data for running the model on\n",
    "unseen_x\n",
    "X_1 = unseen_x[cols]\n",
    "Y_1 = unseen_x['fraudulent_flag']\n",
    "\n",
    "#X = X.dropna(how='any',axis=0) \n",
    "#y = y.dropna(how='any',axis=0) \n",
    "\n",
    "#Y_1\n",
    "\n",
    "X_1"
   ]
  },
  {
   "cell_type": "markdown",
   "metadata": {},
   "source": [
    "## Running logistic regression "
   ]
  },
  {
   "cell_type": "code",
   "execution_count": 11,
   "metadata": {},
   "outputs": [
    {
     "ename": "ModuleNotFoundError",
     "evalue": "No module named 'sklearn'",
     "output_type": "error",
     "traceback": [
      "\u001b[1;31m---------------------------------------------------------------------------\u001b[0m",
      "\u001b[1;31mModuleNotFoundError\u001b[0m                       Traceback (most recent call last)",
      "\u001b[1;32m<ipython-input-11-c5784e4fa4cc>\u001b[0m in \u001b[0;36m<module>\u001b[1;34m\u001b[0m\n\u001b[1;32m----> 1\u001b[1;33m \u001b[1;32mfrom\u001b[0m \u001b[0msklearn\u001b[0m\u001b[1;33m.\u001b[0m\u001b[0mmodel_selection\u001b[0m \u001b[1;32mimport\u001b[0m \u001b[0mtrain_test_split\u001b[0m\u001b[1;33m\u001b[0m\u001b[1;33m\u001b[0m\u001b[0m\n\u001b[0m\u001b[0;32m      2\u001b[0m \u001b[1;32mfrom\u001b[0m \u001b[0msklearn\u001b[0m\u001b[1;33m.\u001b[0m\u001b[0mlinear_model\u001b[0m \u001b[1;32mimport\u001b[0m \u001b[0mLogisticRegression\u001b[0m\u001b[1;33m\u001b[0m\u001b[1;33m\u001b[0m\u001b[0m\n\u001b[0;32m      3\u001b[0m \u001b[1;33m\u001b[0m\u001b[0m\n\u001b[0;32m      4\u001b[0m \u001b[0mXtrain\u001b[0m\u001b[1;33m,\u001b[0m \u001b[0mXtest\u001b[0m\u001b[1;33m,\u001b[0m \u001b[0mytrain\u001b[0m\u001b[1;33m,\u001b[0m \u001b[0mytest\u001b[0m \u001b[1;33m=\u001b[0m \u001b[0mtrain_test_split\u001b[0m\u001b[1;33m(\u001b[0m\u001b[0mX\u001b[0m\u001b[1;33m,\u001b[0m\u001b[0my\u001b[0m\u001b[1;33m,\u001b[0m\u001b[0mrandom_state\u001b[0m\u001b[1;33m=\u001b[0m\u001b[1;36m12\u001b[0m\u001b[1;33m)\u001b[0m\u001b[1;33m\u001b[0m\u001b[1;33m\u001b[0m\u001b[0m\n\u001b[0;32m      5\u001b[0m \u001b[1;33m\u001b[0m\u001b[0m\n",
      "\u001b[1;31mModuleNotFoundError\u001b[0m: No module named 'sklearn'"
     ]
    }
   ],
   "source": [
    "from sklearn.model_selection import train_test_split \n",
    "from sklearn.linear_model import LogisticRegression\n",
    "\n",
    "Xtrain, Xtest, ytrain, ytest = train_test_split(X,y,random_state=12)\n",
    "\n",
    "logreg = LogisticRegression()\n",
    "logreg.fit(Xtrain, ytrain)\n",
    "logreg.score(Xtest,ytest)\n",
    "\n",
    "#logreg.predict(X_1)"
   ]
  },
  {
   "cell_type": "markdown",
   "metadata": {},
   "source": [
    "## Trying to improve accuracy by using GaussianNB"
   ]
  },
  {
   "cell_type": "code",
   "execution_count": null,
   "metadata": {},
   "outputs": [],
   "source": [
    "from sklearn.model_selection import train_test_split \n",
    "from sklearn.naive_bayes import GaussianNB\n",
    "\n",
    "Xtrain, Xtest, ytrain, ytest = train_test_split(X,y,random_state=20)\n",
    "\n",
    "gaussian = GaussianNB()\n",
    "\n",
    "gaussian.fit(Xtrain, ytrain)\n",
    "gaussian.score(Xtest, ytest)\n",
    "\n",
    "#gaussian.predict(X_1)"
   ]
  },
  {
   "cell_type": "markdown",
   "metadata": {},
   "source": [
    "## Trying to improve accuracy by using Decision Tree Classifier "
   ]
  },
  {
   "cell_type": "code",
   "execution_count": null,
   "metadata": {},
   "outputs": [],
   "source": [
    "from sklearn.model_selection import train_test_split \n",
    "from sklearn.tree import DecisionTreeClassifier\n",
    "\n",
    "Xtrain, Xtest, ytrain, ytest = train_test_split(X,y,random_state=12)\n",
    "\n",
    "decision_tree = DecisionTreeClassifier(random_state=22)\n",
    "\n",
    "decision_tree.fit(Xtrain,ytrain)\n",
    "decision_tree.score(Xtest,ytest)"
   ]
  },
  {
   "cell_type": "markdown",
   "metadata": {},
   "source": [
    "## We can go for either Logistic Regression or GaussianNB classifier as they have the maximum accuracy in predicting the fraudulent claims"
   ]
  }
 ],
 "metadata": {
  "kernelspec": {
   "display_name": "Python 3",
   "language": "python",
   "name": "python3"
  },
  "language_info": {
   "codemirror_mode": {
    "name": "ipython",
    "version": 3
   },
   "file_extension": ".py",
   "mimetype": "text/x-python",
   "name": "python",
   "nbconvert_exporter": "python",
   "pygments_lexer": "ipython3",
   "version": "3.7.4"
  }
 },
 "nbformat": 4,
 "nbformat_minor": 2
}
